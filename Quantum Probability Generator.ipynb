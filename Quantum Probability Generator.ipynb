{
 "cells": [
  {
   "cell_type": "markdown",
   "metadata": {},
   "source": [
    "# Quantum Probability Generator\n",
    "\n",
    "### IBM/TNS Quantum Design Jam, Team 7"
   ]
  },
  {
   "cell_type": "code",
   "execution_count": 10,
   "metadata": {},
   "outputs": [],
   "source": [
    "\n",
    "from qiskit import * \n",
    "from qiskit import IBMQ\n",
    "from qiskit.visualization import plot_histogram\n",
    "from qiskit.tools.monitor import job_monitor\n"
   ]
  },
  {
   "cell_type": "code",
   "execution_count": null,
   "metadata": {},
   "outputs": [],
   "source": [
    "#reference\n",
    "#https://github.com/JRussellHuffman/Rothko-Bell/blob/main/Bell%20Art.ipynb\n",
    "##https://github.com/qiskit-community/qiskit-community-tutorials/blob/master/Coding_With_Qiskit/ep5_Quantum_Teleportation.ipynb"
   ]
  },
  {
   "cell_type": "code",
   "execution_count": 11,
   "metadata": {},
   "outputs": [
    {
     "name": "stderr",
     "output_type": "stream",
     "text": [
      "ibmqfactory.load_account:WARNING:2021-10-07 16:44:02,367: Credentials are already in use. The existing account in the session will be replaced.\n"
     ]
    },
    {
     "data": {
      "text/plain": [
       "[<IBMQSimulator('ibmq_qasm_simulator') from IBMQ(hub='ibm-q', group='open', project='main')>,\n",
       " <IBMQBackend('ibmq_armonk') from IBMQ(hub='ibm-q', group='open', project='main')>,\n",
       " <IBMQBackend('ibmq_santiago') from IBMQ(hub='ibm-q', group='open', project='main')>,\n",
       " <IBMQBackend('ibmq_bogota') from IBMQ(hub='ibm-q', group='open', project='main')>,\n",
       " <IBMQBackend('ibmq_lima') from IBMQ(hub='ibm-q', group='open', project='main')>,\n",
       " <IBMQBackend('ibmq_belem') from IBMQ(hub='ibm-q', group='open', project='main')>,\n",
       " <IBMQBackend('ibmq_quito') from IBMQ(hub='ibm-q', group='open', project='main')>,\n",
       " <IBMQSimulator('simulator_statevector') from IBMQ(hub='ibm-q', group='open', project='main')>,\n",
       " <IBMQSimulator('simulator_mps') from IBMQ(hub='ibm-q', group='open', project='main')>,\n",
       " <IBMQSimulator('simulator_extended_stabilizer') from IBMQ(hub='ibm-q', group='open', project='main')>,\n",
       " <IBMQSimulator('simulator_stabilizer') from IBMQ(hub='ibm-q', group='open', project='main')>,\n",
       " <IBMQBackend('ibmq_manila') from IBMQ(hub='ibm-q', group='open', project='main')>]"
      ]
     },
     "execution_count": 11,
     "metadata": {},
     "output_type": "execute_result"
    }
   ],
   "source": [
    "IBMQ.providers()\n",
    "IBMQ.load_account()\n",
    "provider = IBMQ.get_provider(hub='ibm-q')\n",
    "provider.backends()"
   ]
  },
  {
   "cell_type": "markdown",
   "metadata": {},
   "source": [
    "## 50% ( Superposition )"
   ]
  },
  {
   "cell_type": "code",
   "execution_count": 5,
   "metadata": {},
   "outputs": [
    {
     "data": {
      "text/html": [
       "<pre style=\"word-wrap: normal;white-space: pre;background: #fff0;line-height: 1.1;font-family: &quot;Courier New&quot;,Courier,monospace\">     ┌───┐┌─┐      \n",
       "q_0: ┤ H ├┤M├──────\n",
       "     ├───┤└╥┘┌─┐   \n",
       "q_1: ┤ H ├─╫─┤M├───\n",
       "     ├───┤ ║ └╥┘┌─┐\n",
       "q_2: ┤ H ├─╫──╫─┤M├\n",
       "     └───┘ ║  ║ └╥┘\n",
       "c: 3/══════╩══╩══╩═\n",
       "           0  1  2 </pre>"
      ],
      "text/plain": [
       "     ┌───┐┌─┐      \n",
       "q_0: ┤ H ├┤M├──────\n",
       "     ├───┤└╥┘┌─┐   \n",
       "q_1: ┤ H ├─╫─┤M├───\n",
       "     ├───┤ ║ └╥┘┌─┐\n",
       "q_2: ┤ H ├─╫──╫─┤M├\n",
       "     └───┘ ║  ║ └╥┘\n",
       "c: 3/══════╩══╩══╩═\n",
       "           0  1  2 "
      ]
     },
     "execution_count": 5,
     "metadata": {},
     "output_type": "execute_result"
    }
   ],
   "source": [
    "circuit = QuantumCircuit(3,3)\n",
    "# ========================\n",
    "# Step 0: Create the state to be teleported in qubit 0\n",
    "circuit.h(0)\n",
    "circuit.h(1)\n",
    "circuit.h(2)\n",
    "\n",
    "\n",
    "circuit.measure([0, 1, 2], [0, 1, 2]) \n",
    "circuit.draw()\n"
   ]
  },
  {
   "cell_type": "code",
   "execution_count": 7,
   "metadata": {},
   "outputs": [
    {
     "data": {
      "image/png": "[encoded data removed]",
      "text/plain": [
       "<Figure size 504x360 with 1 Axes>"
      ]
     },
     "execution_count": 7,
     "metadata": {},
     "output_type": "execute_result"
    }
   ],
   "source": [
    "simulator = Aer.get_backend('qasm_simulator')\n",
    "result = execute(circuit, backend=simulator, shots=1024).result()\n",
    "\n",
    "plot_histogram(result.get_counts(circuit))"
   ]
  },
  {
   "cell_type": "code",
   "execution_count": 8,
   "metadata": {},
   "outputs": [],
   "source": [
    "qcomp = provider.get_backend('ibmq_santiago')"
   ]
  },
  {
   "cell_type": "code",
   "execution_count": 13,
   "metadata": {},
   "outputs": [
    {
     "name": "stdout",
     "output_type": "stream",
     "text": [
      "615dfeae73064c5350619ee3\n",
      "Job Status: job has successfully run\n"
     ]
    }
   ],
   "source": [
    "# run the job on the backend qcomp\n",
    "job = execute(circuit, backend=qcomp, shots=8000, initial_layout=[0,1,2], memory=True)\n",
    "print(job.job_id())\n",
    "job_monitor(job)"
   ]
  },
  {
   "cell_type": "code",
   "execution_count": 15,
   "metadata": {},
   "outputs": [
    {
     "data": {
      "text/plain": [
       "{'000': 1016,\n",
       " '001': 1040,\n",
       " '010': 1051,\n",
       " '011': 1034,\n",
       " '100': 955,\n",
       " '101': 962,\n",
       " '110': 982,\n",
       " '111': 960}"
      ]
     },
     "execution_count": 15,
     "metadata": {},
     "output_type": "execute_result"
    }
   ],
   "source": [
    "result = job.result()\n",
    "result.get_counts()"
   ]
  },
  {
   "cell_type": "code",
   "execution_count": 16,
   "metadata": {},
   "outputs": [],
   "source": [
    "myjson = result.get_memory()"
   ]
  },
  {
   "cell_type": "markdown",
   "metadata": {},
   "source": [
    "## 60% ( Deutsch-Jozsa Algorithm )"
   ]
  },
  {
   "cell_type": "code",
   "execution_count": 25,
   "metadata": {},
   "outputs": [
    {
     "data": {
      "text/html": [
       "<pre style=\"word-wrap: normal;white-space: pre;background: #fff0;line-height: 1.1;font-family: &quot;Courier New&quot;,Courier,monospace\">          ┌───┐ ░ ┌───┐                ░ ┌───┐┌───┐ ░ ┌─┐      \n",
       "q_0: ─|0>─┤ H ├─░─┤ X ├──■─────────────░─┤ X ├┤ H ├─░─┤M├──────\n",
       "          ├───┤ ░ └───┘  │             ░ ├───┤└───┘ ░ └╥┘┌─┐   \n",
       "q_1: ─|0>─┤ H ├─░────────┼────■────────░─┤ H ├──────░──╫─┤M├───\n",
       "          ├───┤ ░ ┌───┐  │    │        ░ ├───┤┌───┐ ░  ║ └╥┘┌─┐\n",
       "q_2: ─|0>─┤ H ├─░─┤ X ├──┼────┼────■───░─┤ X ├┤ H ├─░──╫──╫─┤M├\n",
       "     ┌───┐├───┤ ░ └───┘┌─┴─┐┌─┴─┐┌─┴─┐ ░ └───┘└───┘ ░  ║  ║ └╥┘\n",
       "q_3: ┤ X ├┤ H ├─░──────┤ X ├┤ X ├┤ X ├─░────────────░──╫──╫──╫─\n",
       "     └───┘└───┘ ░      └───┘└───┘└───┘ ░            ░  ║  ║  ║ \n",
       "c: 4/══════════════════════════════════════════════════╩══╩══╩═\n",
       "                                                       0  1  2 </pre>"
      ],
      "text/plain": [
       "          ┌───┐ ░ ┌───┐                ░ ┌───┐┌───┐ ░ ┌─┐      \n",
       "q_0: ─|0>─┤ H ├─░─┤ X ├──■─────────────░─┤ X ├┤ H ├─░─┤M├──────\n",
       "          ├───┤ ░ └───┘  │             ░ ├───┤└───┘ ░ └╥┘┌─┐   \n",
       "q_1: ─|0>─┤ H ├─░────────┼────■────────░─┤ H ├──────░──╫─┤M├───\n",
       "          ├───┤ ░ ┌───┐  │    │        ░ ├───┤┌───┐ ░  ║ └╥┘┌─┐\n",
       "q_2: ─|0>─┤ H ├─░─┤ X ├──┼────┼────■───░─┤ X ├┤ H ├─░──╫──╫─┤M├\n",
       "     ┌───┐├───┤ ░ └───┘┌─┴─┐┌─┴─┐┌─┴─┐ ░ └───┘└───┘ ░  ║  ║ └╥┘\n",
       "q_3: ┤ X ├┤ H ├─░──────┤ X ├┤ X ├┤ X ├─░────────────░──╫──╫──╫─\n",
       "     └───┘└───┘ ░      └───┘└───┘└───┘ ░            ░  ║  ║  ║ \n",
       "c: 4/══════════════════════════════════════════════════╩══╩══╩═\n",
       "                                                       0  1  2 "
      ]
     },
     "execution_count": 25,
     "metadata": {},
     "output_type": "execute_result"
    }
   ],
   "source": [
    "# qreg_q = QuantumRegister(4, 'q')\n",
    "# creg_c = ClassicalRegister(4, 'c')\n",
    "circuit = QuantumCircuit(4,4)\n",
    "\n",
    "circuit.reset(qreg_q[0])\n",
    "circuit.reset(qreg_q[1])\n",
    "circuit.reset(qreg_q[2])\n",
    "circuit.x(qreg_q[3])\n",
    "circuit.h(qreg_q[0])\n",
    "circuit.h(qreg_q[1])\n",
    "circuit.h(qreg_q[2])\n",
    "circuit.h(qreg_q[3])\n",
    "circuit.barrier()\n",
    "\n",
    "circuit.x(qreg_q[0])\n",
    "circuit.x(qreg_q[2])\n",
    "circuit.cx(qreg_q[0], qreg_q[3])\n",
    "circuit.cx(qreg_q[1], qreg_q[3])\n",
    "circuit.cx(qreg_q[2], qreg_q[3])\n",
    "\n",
    "circuit.barrier()\n",
    "\n",
    "circuit.x(qreg_q[0])\n",
    "circuit.h(qreg_q[0])\n",
    "circuit.h(qreg_q[1])\n",
    "circuit.x(qreg_q[2])\n",
    "circuit.h(qreg_q[2])\n",
    "\n",
    "circuit.barrier()\n",
    "\n",
    "circuit.measure(qreg_q[0], creg_c[0])\n",
    "circuit.measure(qreg_q[1], creg_c[1])\n",
    "circuit.measure(qreg_q[2], creg_c[2])\n",
    "\n",
    "circuit.draw()"
   ]
  },
  {
   "cell_type": "code",
   "execution_count": 26,
   "metadata": {},
   "outputs": [
    {
     "data": {
      "image/png": "[encoded data removed]",
      "text/plain": [
       "<Figure size 504x360 with 1 Axes>"
      ]
     },
     "execution_count": 26,
     "metadata": {},
     "output_type": "execute_result"
    }
   ],
   "source": [
    "simulator = Aer.get_backend('qasm_simulator')\n",
    "result = execute(circuit, backend=simulator, shots=1024).result()\n",
    "\n",
    "plot_histogram(result.get_counts(circuit))"
   ]
  },
  {
   "cell_type": "code",
   "execution_count": 28,
   "metadata": {},
   "outputs": [
    {
     "name": "stdout",
     "output_type": "stream",
     "text": [
      "615e1122059e1b0d96a66a2e\n",
      "Job Status: job has successfully run\n"
     ]
    }
   ],
   "source": [
    "qcomp = provider.get_backend('ibmq_santiago')\n",
    "\n",
    "# run the job on the backend qcomp\n",
    "job = execute(circuit, backend=qcomp, shots=8000, initial_layout=[0,1,2,3], memory=True)\n",
    "print(job.job_id())\n",
    "\n",
    "job_monitor(job)"
   ]
  },
  {
   "cell_type": "code",
   "execution_count": 29,
   "metadata": {},
   "outputs": [
    {
     "data": {
      "text/plain": [
       "{'0000': 143,\n",
       " '0001': 243,\n",
       " '0010': 77,\n",
       " '0011': 538,\n",
       " '0100': 140,\n",
       " '0101': 1593,\n",
       " '0110': 251,\n",
       " '0111': 5015}"
      ]
     },
     "execution_count": 29,
     "metadata": {},
     "output_type": "execute_result"
    }
   ],
   "source": [
    "result = job.result()\n",
    "result.get_counts()"
   ]
  },
  {
   "cell_type": "code",
   "execution_count": 30,
   "metadata": {},
   "outputs": [],
   "source": [
    "myjson = result.get_memory()"
   ]
  },
  {
   "cell_type": "markdown",
   "metadata": {},
   "source": [
    "## 90% ( Not Gate )"
   ]
  },
  {
   "cell_type": "code",
   "execution_count": 21,
   "metadata": {},
   "outputs": [
    {
     "data": {
      "text/html": [
       "<pre style=\"word-wrap: normal;white-space: pre;background: #fff0;line-height: 1.1;font-family: &quot;Courier New&quot;,Courier,monospace\">          ┌───┐┌─┐      \n",
       "q_0: ─|0>─┤ X ├┤M├──────\n",
       "          ├───┤└╥┘┌─┐   \n",
       "q_1: ─|0>─┤ X ├─╫─┤M├───\n",
       "          ├───┤ ║ └╥┘┌─┐\n",
       "q_2: ─|0>─┤ X ├─╫──╫─┤M├\n",
       "          └───┘ ║  ║ └╥┘\n",
       "c: 3/═══════════╩══╩══╩═\n",
       "                0  1  2 </pre>"
      ],
      "text/plain": [
       "          ┌───┐┌─┐      \n",
       "q_0: ─|0>─┤ X ├┤M├──────\n",
       "          ├───┤└╥┘┌─┐   \n",
       "q_1: ─|0>─┤ X ├─╫─┤M├───\n",
       "          ├───┤ ║ └╥┘┌─┐\n",
       "q_2: ─|0>─┤ X ├─╫──╫─┤M├\n",
       "          └───┘ ║  ║ └╥┘\n",
       "c: 3/═══════════╩══╩══╩═\n",
       "                0  1  2 "
      ]
     },
     "execution_count": 21,
     "metadata": {},
     "output_type": "execute_result"
    }
   ],
   "source": [
    "qreg_q = QuantumRegister(3, 'q')\n",
    "creg_c = ClassicalRegister(3, 'c')\n",
    "\n",
    "circuit = QuantumCircuit(qreg_q, creg_c)\n",
    "\n",
    "circuit.reset(qreg_q[0])\n",
    "circuit.reset(qreg_q[1])\n",
    "circuit.reset(qreg_q[2])\n",
    "circuit.x(qreg_q[0])\n",
    "circuit.x(qreg_q[1])\n",
    "circuit.x(qreg_q[2])\n",
    "circuit.measure(qreg_q[0], creg_c[0])\n",
    "circuit.measure(qreg_q[1], creg_c[1])\n",
    "circuit.measure(qreg_q[2], creg_c[2])\n",
    "\n",
    "circuit.draw()"
   ]
  },
  {
   "cell_type": "code",
   "execution_count": 22,
   "metadata": {},
   "outputs": [
    {
     "data": {
      "image/png": "[encoded data removed]",
      "text/plain": [
       "<Figure size 504x360 with 1 Axes>"
      ]
     },
     "execution_count": 22,
     "metadata": {},
     "output_type": "execute_result"
    }
   ],
   "source": [
    "simulator = Aer.get_backend('qasm_simulator')\n",
    "result = execute(circuit, backend=simulator, shots=1024).result()\n",
    "\n",
    "plot_histogram(result.get_counts(circuit))"
   ]
  },
  {
   "cell_type": "code",
   "execution_count": 24,
   "metadata": {},
   "outputs": [
    {
     "name": "stdout",
     "output_type": "stream",
     "text": [
      "615fad93f9a6d9555a990b8f\n",
      "Job Status: job has successfully run\n"
     ]
    }
   ],
   "source": [
    "qcomp = provider.get_backend('ibmq_santiago')\n",
    "\n",
    "# run the job on the backend qcomp\n",
    "job = execute(circuit, backend=qcomp, shots=8000, initial_layout=[0,1,2], memory=True)\n",
    "print(job.job_id())\n",
    "\n",
    "job_monitor(job)"
   ]
  },
  {
   "cell_type": "code",
   "execution_count": 28,
   "metadata": {},
   "outputs": [
    {
     "data": {
      "text/plain": [
       "{'001': 7, '010': 7, '011': 217, '100': 2, '101': 153, '110': 175, '111': 7439}"
      ]
     },
     "execution_count": 28,
     "metadata": {},
     "output_type": "execute_result"
    }
   ],
   "source": [
    "result = job.result()\n",
    "result.get_counts()"
   ]
  },
  {
   "cell_type": "code",
   "execution_count": 17,
   "metadata": {},
   "outputs": [],
   "source": [
    "myjson = result.get_memory()"
   ]
  },
  {
   "cell_type": "markdown",
   "metadata": {},
   "source": [
    "## 90% ( Entanglement )"
   ]
  },
  {
   "cell_type": "code",
   "execution_count": 29,
   "metadata": {},
   "outputs": [
    {
     "data": {
      "text/html": [
       "<pre style=\"word-wrap: normal;white-space: pre;background: #fff0;line-height: 1.1;font-family: &quot;Courier New&quot;,Courier,monospace\">                         ┌───┐┌─┐   \n",
       "q_0: ─|0>────────────────┤ X ├┤M├───\n",
       "                    ┌───┐└─┬─┘└╥┘┌─┐\n",
       "q_1: ─|0>───────────┤ X ├──■───╫─┤M├\n",
       "               ┌───┐└─┬─┘ ┌─┐  ║ └╥┘\n",
       "q_2: ─|0>──────┤ X ├──■───┤M├──╫──╫─\n",
       "          ┌───┐└─┬─┘      └╥┘  ║  ║ \n",
       "q_3: ─|0>─┤ X ├──■─────────╫───╫──╫─\n",
       "          └───┘            ║   ║  ║ \n",
       "c: 4/══════════════════════╩═══╩══╩═\n",
       "                           2   0  1 </pre>"
      ],
      "text/plain": [
       "                         ┌───┐┌─┐   \n",
       "q_0: ─|0>────────────────┤ X ├┤M├───\n",
       "                    ┌───┐└─┬─┘└╥┘┌─┐\n",
       "q_1: ─|0>───────────┤ X ├──■───╫─┤M├\n",
       "               ┌───┐└─┬─┘ ┌─┐  ║ └╥┘\n",
       "q_2: ─|0>──────┤ X ├──■───┤M├──╫──╫─\n",
       "          ┌───┐└─┬─┘      └╥┘  ║  ║ \n",
       "q_3: ─|0>─┤ X ├──■─────────╫───╫──╫─\n",
       "          └───┘            ║   ║  ║ \n",
       "c: 4/══════════════════════╩═══╩══╩═\n",
       "                           2   0  1 "
      ]
     },
     "execution_count": 29,
     "metadata": {},
     "output_type": "execute_result"
    }
   ],
   "source": [
    "qreg_q = QuantumRegister(4, 'q')\n",
    "creg_c = ClassicalRegister(4, 'c')\n",
    "circuit = QuantumCircuit(qreg_q, creg_c)\n",
    "\n",
    "circuit.reset(qreg_q[0])\n",
    "circuit.reset(qreg_q[1])\n",
    "circuit.reset(qreg_q[2])\n",
    "circuit.reset(qreg_q[3])\n",
    "circuit.x(qreg_q[3])\n",
    "circuit.cx(qreg_q[3], qreg_q[2])\n",
    "circuit.cx(qreg_q[2], qreg_q[1])\n",
    "circuit.cx(qreg_q[1], qreg_q[0])\n",
    "circuit.measure(qreg_q[0], creg_c[0])\n",
    "circuit.measure(qreg_q[1], creg_c[1])\n",
    "circuit.measure(qreg_q[2], creg_c[2])\n",
    "\n",
    "circuit.draw()"
   ]
  },
  {
   "cell_type": "code",
   "execution_count": 30,
   "metadata": {},
   "outputs": [
    {
     "data": {
      "image/png": "[encoded data removed]",
      "text/plain": [
       "<Figure size 504x360 with 1 Axes>"
      ]
     },
     "execution_count": 30,
     "metadata": {},
     "output_type": "execute_result"
    }
   ],
   "source": [
    "simulator = Aer.get_backend('qasm_simulator')\n",
    "result = execute(circuit, backend=simulator, shots=1024).result()\n",
    "\n",
    "plot_histogram(result.get_counts(circuit))"
   ]
  },
  {
   "cell_type": "code",
   "execution_count": 34,
   "metadata": {},
   "outputs": [],
   "source": [
    "qcomp = provider.get_backend('ibmq_santiago')"
   ]
  },
  {
   "cell_type": "code",
   "execution_count": 35,
   "metadata": {},
   "outputs": [
    {
     "name": "stdout",
     "output_type": "stream",
     "text": [
      "615fb5b4a8477c3e9d7c6aba\n",
      "Job Status: job has successfully run\n"
     ]
    }
   ],
   "source": [
    "job = execute(circuit, backend=qcomp, shots=8000, initial_layout=[0,1,2,3], memory=True)\n",
    "print(job.job_id())\n",
    "\n",
    "job_monitor(job)"
   ]
  },
  {
   "cell_type": "code",
   "execution_count": 36,
   "metadata": {},
   "outputs": [
    {
     "data": {
      "text/plain": [
       "{'0000': 101,\n",
       " '0001': 11,\n",
       " '0010': 12,\n",
       " '0011': 192,\n",
       " '0100': 121,\n",
       " '0101': 152,\n",
       " '0110': 382,\n",
       " '0111': 7029}"
      ]
     },
     "execution_count": 36,
     "metadata": {},
     "output_type": "execute_result"
    }
   ],
   "source": [
    "result = job.result()\n",
    "result.get_counts()"
   ]
  },
  {
   "cell_type": "code",
   "execution_count": 37,
   "metadata": {},
   "outputs": [],
   "source": [
    "myjson = result.get_memory()"
   ]
  },
  {
   "cell_type": "markdown",
   "metadata": {},
   "source": [
    "### saving result"
   ]
  },
  {
   "cell_type": "code",
   "execution_count": 38,
   "metadata": {},
   "outputs": [],
   "source": [
    "##download the result\n",
    "\n",
    "import json\n",
    "with open('data.json', 'w') as outfile:\n",
    "    json.dump(myjson, outfile)"
   ]
  },
  {
   "cell_type": "code",
   "execution_count": null,
   "metadata": {},
   "outputs": [],
   "source": []
  }
 ],
 "metadata": {
  "kernelspec": {
   "display_name": "Python 3",
   "language": "python",
   "name": "python3"
  },
  "language_info": {
   "codemirror_mode": {
    "name": "ipython",
    "version": 3
   },
   "file_extension": ".py",
   "mimetype": "text/x-python",
   "name": "python",
   "nbconvert_exporter": "python",
   "pygments_lexer": "ipython3",
   "version": "3.7.6"
  }
 },
 "nbformat": 4,
 "nbformat_minor": 4
}
